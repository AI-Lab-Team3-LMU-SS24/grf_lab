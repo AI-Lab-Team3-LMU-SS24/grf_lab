{
 "cells": [
  {
   "cell_type": "code",
   "execution_count": 1,
   "metadata": {
    "tags": []
   },
   "source": [
    "import matplotlib.pyplot as plt\n",
    "import numpy as np\n",
    "from numpy.typing import ArrayLike\n",
    "import os\n",
    "import pathlib\n",
    "from scipy import fftpack\n",
    "import sys\n",
    "from typing import Callable\n",
    "\n",
    "curr_dir = pathlib.Path(os.getcwd())\n",
    "prj_dir = curr_dir.parent.parent\n",
    "sys.path.insert(0, str(prj_dir))\n",
    "from grf_lab.models.kmod import cosmos\n",
    "\n",
    "data_dir = curr_dir / \"data\"\n",
    "figs_dir = curr_dir / \"figs/grfs/\" # Change this to your specification\n",
    "\n",
    "\n",
    "for _path in [data_dir, figs_dir]:\n",
    "    if not _path.exists():\n",
    "        os.makedirs(_path, exist_ok=True)"
   ],
   "outputs": []
  },
  {
   "cell_type": "markdown",
   "metadata": {},
   "source": [
    "## Section 6.2 - Generate a GRF dataset\n",
    "\n",
    "- Generate a training set by sampling from a prior. The prior should be\n",
    "uniform in A and B.\n",
    "- Also generate a separate field that is not part of your training dataset.\n",
    "The parameters of this field should still be within the prior! This will be\n",
    "your observed data."
   ]
  },
  {
   "cell_type": "markdown",
   "metadata": {},
   "source": [
    "We'll generate the dataset-parameters `parameters` and the measurement-parameters `AB` using the same params as the ones used in the example notebook:\n",
    "\n",
    " - Measured parameters: `A=1, b=2.5`\n",
    " - Parameter range: $A\\in U[0.1, 2],\\, B\\in U[2, 3]$"
   ]
  },
  {
   "cell_type": "code",
   "execution_count": 2,
   "metadata": {
    "tags": []
   },
   "source": [
    "# Generate a multi cosmology dataset    \n",
    "n_sims = 5_000\n",
    "n_pix = 64\n",
    "box_dim = 1.\n",
    "\n",
    "AB = np.array([1., 2.5]) # Fiducial cosmology\n",
    "lower = np.array([0.1, 2.])\n",
    "upper = np.array([2., 3.])\n",
    "param_names = [\"A\", \"B\"]\n",
    "\n",
    "parameters = np.stack(\n",
    "    [\n",
    "        np.random.uniform(low=lower[0], high=upper[0], size=n_sims),\n",
    "        np.random.uniform(low=lower[1], high=upper[1], size=n_sims)\n",
    "    ], \n",
    "    axis=1\n",
    ")\n",
    "\n",
    "parameters.shape  # The training set disccused in the notebook"
   ],
   "outputs": []
  },
  {
   "cell_type": "markdown",
   "metadata": {},
   "source": [
    "Let's visualize the distribution of the generated parameters"
   ]
  },
  {
   "cell_type": "code",
   "execution_count": 3,
   "metadata": {},
   "source": [
    "fig = plt.figure()\n",
    "plt.scatter(*parameters.T, alpha=0.4, c=\"k\", label=\"Simulations\")\n",
    "plt.scatter(*AB.T, c=\"crimson\", label=\"Measured\")\n",
    "plt.xlabel(param_names[0])\n",
    "plt.xlim(lower[0], upper[0])\n",
    "plt.ylabel(param_names[1])\n",
    "plt.ylim(lower[1], upper[1])\n",
    "plt.legend(loc=\"upper right\")\n",
    "plt.show()"
   ],
   "outputs": []
  },
  {
   "cell_type": "markdown",
   "metadata": {},
   "source": [
    "Each of these parameter-sets $(A, B)$ represents a different power spectrun $A\\cdot k^{-B}$.\n",
    "\n",
    "Next we'll simulate a GRF for each parameter pair, and the measurement."
   ]
  },
  {
   "cell_type": "code",
   "execution_count": 4,
   "metadata": {
    "tags": []
   },
   "source": [
    "fields = np.zeros((n_sims, n_pix, n_pix))\n",
    "for i, (A, B) in enumerate(parameters):\n",
    "    pk_fn: Callable = cosmos.make_power_spectrum(A, B)\n",
    "    fields[i] = cosmos.make_gaussian_random_field(n_pix, box_dim, pk_fn, random_seed=i)\n",
    "    print(f\"\\r{i=} {fields[i].max()=}, {fields[i].min()=}\", end=\"\")\n",
    "\n",
    "# Make a measurement using the true parameters\n",
    "A, B = AB\n",
    "pk_fn = cosmos.make_power_spectrum(A, B)\n",
    "data = cosmos.make_gaussian_random_field(n_pix, box_dim, pk_fn, random_seed=128973874)\n",
    "data.shape"
   ],
   "outputs": []
  },
  {
   "cell_type": "code",
   "execution_count": 5,
   "metadata": {},
   "source": [
    "fig = plt.figure()\n",
    "plt.imshow(data, cmap=\"seismic\")\n",
    "plt.title(f\"'True' data\")\n",
    "plt.xticks([])\n",
    "plt.yticks([])\n",
    "plt.show()"
   ],
   "outputs": []
  },
  {
   "cell_type": "code",
   "execution_count": 6,
   "metadata": {
    "tags": []
   },
   "source": [
    "np.save(os.path.join(data_dir, f\"grfs_{n_pix=}.npy\"), fields)\n",
    "np.save(data_dir / f\"grfs_{n_pix=}.npy\", fields)\n",
    "np.save(data_dir / f\"data_{n_pix=}.npy\", data)\n",
    "np.save(data_dir / f\"grfs_parameters_{n_pix=}.npy\", parameters)\n",
    "np.savez(data_dir / f\"data\", fields=fields, data=data, parameters=parameters, true_params=AB)\n",
    "\n",
    "all_data = np.load(data_dir / f\"data.npz\")\n",
    "for k, v in all_data.items():\n",
    "    print(k, v.shape)"
   ],
   "outputs": []
  },
  {
   "cell_type": "code",
   "execution_count": 7,
   "metadata": {},
   "source": [
    "assert False"
   ],
   "outputs": []
  },
  {
   "cell_type": "code",
   "execution_count": null,
   "metadata": {
    "tags": []
   },
   "source": [
    "n_draws = 100\n",
    "\n",
    "fig, axd = plt.subplot_mosaic(\n",
    "    np.asarray([str(n) for n in range(100)]).reshape(10, 10), \n",
    "    figsize=(6., 6.),\n",
    "    dpi=200,\n",
    "    subplot_kw={\"xticks\" : [], \"yticks\" : []},\n",
    "    gridspec_kw={\n",
    "        \"hspace\" : 0.04, \"left\" : 0.0, \"right\" : 1.0, \"top\" : 1., \"bottom\" : 0.\n",
    "    }\n",
    ")\n",
    "\n",
    "pks = np.zeros((n_draws, 100))\n",
    "for i in range(n_draws):\n",
    "    x = cosmos.make_gaussian_random_field(\n",
    "        n_pix=n_pix,\n",
    "        box_dim=box_dim,\n",
    "        power_spectrum=pk_fn,\n",
    "        random_seed=i\n",
    "    ) \n",
    "\n",
    "    pk, k, modes = cosmos.power_spectrum_1d(x, box_dim=box_dim, kbins=100)\n",
    "    pks[i] = pk\n",
    "\n",
    "    axd[str(i)].imshow(x, cmap=\"bwr\")\n",
    "\n",
    "plt.suptitle(\"GRFs - True Model\")\n",
    "plt.savefig(figs_dir / \"grfs.png\")\n",
    "plt.show()\n",
    "\n",
    "print(f\"{k.shape=}, {pks.shape=}, {pk.shape=}\")"
   ],
   "outputs": []
  },
  {
   "cell_type": "code",
   "execution_count": null,
   "metadata": {
    "tags": []
   },
   "source": [
    "plt.figure()\n",
    "plt.plot(k, pk_fn(k), marker=\".\", linestyle=\"\", label=\"theory\")\n",
    "plt.errorbar(k, pks.mean(axis=0), yerr=pks.std(axis=0) / np.sqrt(n_draws), marker=\".\", linestyle=\"\", label=\"Measured\")\n",
    "plt.yscale(\"log\")\n",
    "plt.xscale(\"log\")\n",
    "plt.legend()\n",
    "plt.savefig(figs_dir / \"Pk_fid.png\", bbox_inches=\"tight\")\n",
    "plt.show()"
   ],
   "outputs": []
  },
  {
   "cell_type": "code",
   "execution_count": null,
   "metadata": {
    "tags": []
   },
   "source": [
    "fig, axd = plt.subplot_mosaic(\n",
    "    np.asarray([str(n) for n in range(100)]).reshape(10, 10), \n",
    "    figsize=(6., 6.),\n",
    "    dpi=200,\n",
    "    subplot_kw={\"xticks\" : [], \"yticks\" : []},\n",
    "    gridspec_kw={\n",
    "        \"hspace\" : 0.04, \"left\" : 0.0, \"right\" : 1.0, \"top\" : 1., \"bottom\" : 0.\n",
    "    }\n",
    ")\n",
    "\n",
    "pks_multi_cos = np.zeros((n_draws, 100))\n",
    "for i in range(n_draws):\n",
    "    \n",
    "    A, B = parameters[i]\n",
    "\n",
    "    # Power spectrum model with sampled parameters\n",
    "    pk_fn = cosmos.make_power_spectrum(A, B)\n",
    "\n",
    "    x = cosmos.make_gaussian_random_field(\n",
    "        n_pix,\n",
    "        box_dim=box_dim,\n",
    "        power_spectrum=pk_fn,\n",
    "        random_seed=i\n",
    "    ) \n",
    "\n",
    "    pk, k, modes = cosmos.power_spectrum_1d(x, box_dim=box_dim, kbins=100)\n",
    "    pks_multi_cos[i] = pk\n",
    "\n",
    "    axd[str(i)].imshow(x, cmap=\"bwr\")\n",
    "\n",
    "plt.suptitle(\"GRFs - Adjusted power spectrum\")\n",
    "plt.savefig(figs_dir / \"multi_cosmo_grfs.png\", bbox_inches=\"tight\")\n",
    "plt.show()"
   ],
   "outputs": []
  },
  {
   "cell_type": "code",
   "execution_count": null,
   "metadata": {
    "tags": []
   },
   "source": [
    "plt.figure(dpi=300, figsize=(4.8, 3.2))\n",
    "# plt.plot(k, pk_fn(k), label=\"$P(k)=A * k^{-B}$\") \n",
    "plt.plot(k, cosmos.make_power_spectrum(*AB)(k), label=\"$P(k)=A * k^{-B}$\") \n",
    "for i in range(10):\n",
    "    plt.plot(\n",
    "        k, \n",
    "        pks_multi_cos[i], \n",
    "        marker=\".\", \n",
    "        linestyle=\"\", \n",
    "        alpha=0.3,\n",
    "        color=\"k\", \n",
    "        label=\"Measured\" if i == 0 else None\n",
    "    )\n",
    "plt.xlabel(\"$k$\")\n",
    "plt.ylabel(\"$P(k)$\")\n",
    "plt.yscale(\"log\")\n",
    "plt.xscale(\"log\")\n",
    "plt.legend()\n",
    "plt.savefig(figs_dir / \"multi_cosmo_pk.png\", bbox_inches=\"tight\")\n",
    "plt.show()"
   ],
   "outputs": []
  },
  {
   "cell_type": "code",
   "execution_count": null,
   "metadata": {},
   "source": [],
   "outputs": []
  },
  {
   "cell_type": "code",
   "execution_count": null,
   "metadata": {},
   "source": [],
   "outputs": []
  }
 ],
 "metadata": {
  "kernelspec": {
   "display_name": "Python 3 (ipykernel)",
   "language": "python",
   "name": "python3"
  },
  "language_info": {
   "codemirror_mode": {
    "name": "ipython",
    "version": 3
   },
   "file_extension": ".py",
   "mimetype": "text/x-python",
   "name": "python",
   "nbconvert_exporter": "python",
   "pygments_lexer": "ipython3",
   "version": "3.10.8"
  }
 },
 "nbformat": 4,
 "nbformat_minor": 4
}
